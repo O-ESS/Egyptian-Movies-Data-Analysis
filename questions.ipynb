{
 "cells": [
  {
   "cell_type": "code",
   "execution_count": null,
   "id": "a543010f",
   "metadata": {},
   "outputs": [],
   "source": [
    "import numpy as np\n",
    "import pandas as pd\n",
    "import seaborn as sns\n",
    "import matplotlib.pyplot as plt"
   ]
  },
  {
   "cell_type": "code",
   "execution_count": null,
   "id": "533aaada",
   "metadata": {},
   "outputs": [],
   "source": [
    "df = pd.read_csv('/df_imputed&cleaned.csv')"
   ]
  },
  {
   "cell_type": "markdown",
   "id": "078dcc45",
   "metadata": {},
   "source": [
    "# Best Director per decade"
   ]
  },
  {
   "cell_type": "code",
   "execution_count": null,
   "id": "19ea93d6",
   "metadata": {},
   "outputs": [],
   "source": [
    "from numpy.core.numeric import NaN\n",
    "df40s = df[(df['تاريخ العرض']<1950 )& (df['تاريخ العرض']>=1940)]\n",
    "df50s = df[(df['تاريخ العرض']<1960) & (df['تاريخ العرض']>=1950)]\n",
    "df60s = df[(df['تاريخ العرض']<1970) & (df['تاريخ العرض']>=1960)]\n",
    "df70s = df[(df['تاريخ العرض']<1980) & (df['تاريخ العرض']>=1970)]\n",
    "tem = df40s['إخراج']\n",
    "director40s = np.array([])\n",
    "for st in tem:\n",
    "  if(type(st)!=str):\n",
    "      continue\n",
    "  lis = st.split(\",\")\n",
    "  director40s=np.append(director40s, lis);\n",
    "\n",
    "tem = df50s['إخراج']\n",
    "director50s = np.array([])\n",
    "for st in tem:\n",
    "  if(type(st)!=str):\n",
    "      continue\n",
    "  lis = st.split(\",\")\n",
    "  director50s=np.append(director50s, lis);\n",
    "\n",
    "tem = df60s['إخراج']\n",
    "director60s = np.array([])\n",
    "for st in tem:\n",
    "  if(type(st)!=str):\n",
    "      continue\n",
    "  lis = st.split(\",\")\n",
    "  director60s=np.append(director60s, lis);\n",
    "\n",
    "tem = df70s['إخراج']\n",
    "director70s = np.array([])\n",
    "for st in tem:\n",
    "  if(type(st)!=str):\n",
    "      continue\n",
    "  lis = st.split(\",\")\n",
    "  director70s=np.append(director70s, lis);\n",
    "director40su = np.unique(director40s)\n",
    "count40s = np.array([])\n",
    "for m in director40su:\n",
    "  c = 0\n",
    "  for m1 in director40s:\n",
    "    if m==m1:\n",
    "      c = c+1\n",
    "  count40s = np.append(count40s,[c])\n",
    "\n",
    "director50su = np.unique(director50s)\n",
    "count50s = np.array([])\n",
    "for m in director50su:\n",
    "  c = 0\n",
    "  for m1 in director50s:\n",
    "    if m==m1:\n",
    "      c = c+1\n",
    "  count50s = np.append(count50s,[c])\n",
    "\n",
    "director60su = np.unique(director60s)\n",
    "count60s = np.array([])\n",
    "for m in director60su:\n",
    "  c = 0\n",
    "  for m1 in director60s:\n",
    "    if m==m1:\n",
    "      c = c+1\n",
    "  count60s = np.append(count60s,[c])\n",
    "\n",
    "director70su = np.unique(director70s)\n",
    "count70s = np.array([])\n",
    "for m in director70su:\n",
    "  c = 0\n",
    "  for m1 in director70s:\n",
    "    if m==m1:\n",
    "      c = c+1\n",
    "  count70s = np.append(count70s,[c])"
   ]
  },
  {
   "cell_type": "code",
   "execution_count": null,
   "id": "d185f6b8",
   "metadata": {},
   "outputs": [],
   "source": [
    "fig, [[ax1, ax2], [ax3, ax4]] = plt.subplots(nrows=2, ncols=2, figsize=(20, 20))\n",
    "\n",
    "ax1.bar(director40su, count40s)\n",
    "ax1.set_xticklabels(np.unique(director40s), rotation=90);\n",
    "ax1.set_ylabel('Movies Count')\n",
    "ax1.set_title('40s')\n",
    "\n",
    "ax2.bar(director50su, count50s)\n",
    "ax2.set_xticklabels(np.unique(director50s), rotation=90);\n",
    "ax2.set_ylabel('Movies Count')\n",
    "ax2.set_title('50s')\n",
    "\n",
    "ax3.bar(director60su, count60s)\n",
    "ax3.set_xticklabels(np.unique(director60s), rotation=90);\n",
    "ax3.set_ylabel('Movies Count')\n",
    "ax3.set_title('50s')\n",
    "\n",
    "ax4.bar(director70su, count70s)\n",
    "ax4.set_xticklabels(np.unique(director70s), rotation=90);\n",
    "ax4.set_ylabel('Movies Count')\n",
    "ax4.set_title('70s')\n"
   ]
  },
  {
   "cell_type": "markdown",
   "id": "06d8a596",
   "metadata": {},
   "source": [
    "# Best actor per category"
   ]
  },
  {
   "cell_type": "code",
   "execution_count": null,
   "id": "281bd59e",
   "metadata": {},
   "outputs": [],
   "source": [
    "df_category = df.groupby(['تصنيف الفيلم', 'بطولة اولي']).count().sort_values(by=['اسم الفيلم'], ascending=False)\n",
    "df_category"
   ]
  },
  {
   "cell_type": "markdown",
   "id": "e1a7b9a6",
   "metadata": {},
   "source": [
    "# relation between category and film duration"
   ]
  },
  {
   "cell_type": "code",
   "execution_count": null,
   "id": "3c0a1f33",
   "metadata": {},
   "outputs": [],
   "source": [
    "df_duration = df.groupby(['تصنيف الفيلم']).mean()\n",
    "df_duration"
   ]
  },
  {
   "cell_type": "code",
   "execution_count": null,
   "id": "11e25986",
   "metadata": {},
   "outputs": [],
   "source": [
    "cat = df['تصنيف الفيلم'].unique()\n",
    "dur = df_duration['مدة الفيلم (دقيقة)']\n",
    "print(cat.shape)\n",
    "print(dur.shape)"
   ]
  },
  {
   "cell_type": "code",
   "execution_count": null,
   "id": "c2a2305e",
   "metadata": {},
   "outputs": [],
   "source": [
    "plt.plot(cat, dur)\n",
    " \n",
    "plt.xlabel('category')\n",
    "\n",
    "plt.ylabel('average duration')\n",
    "\n",
    "plt.show()"
   ]
  }
 ],
 "metadata": {
  "kernelspec": {
   "display_name": "Python 3",
   "language": "python",
   "name": "python3"
  }
 },
 "nbformat": 4,
 "nbformat_minor": 5
}
