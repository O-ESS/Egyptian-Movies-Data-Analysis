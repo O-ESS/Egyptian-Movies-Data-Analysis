{
 "cells": [
  {
   "cell_type": "markdown",
   "id": "c625e281",
   "metadata": {},
   "source": [
    "## Category Imputation"
   ]
  },
  {
   "cell_type": "code",
   "execution_count": 1,
   "id": "208f3cb1",
   "metadata": {},
   "outputs": [],
   "source": [
    "import pandas as pd\n",
    "import numpy as np\n",
    "import arabic_reshaper as arabic_reshaper\n",
    "from bidi.algorithm import get_display\n",
    "from sklearn.linear_model import LogisticRegression\n",
    "from sklearn.model_selection import cross_val_score, StratifiedKFold\n",
    "from sklearn.feature_extraction.text import TfidfVectorizer\n",
    "from scipy.sparse import hstack\n",
    "from matplotlib import pyplot as plt\n",
    "import seaborn as sns\n",
    "import eli5\n",
    "import csv"
   ]
  },
  {
   "cell_type": "code",
   "execution_count": null,
   "id": "f0976206",
   "metadata": {},
   "outputs": [],
   "source": []
  },
  {
   "cell_type": "code",
   "execution_count": 2,
   "id": "7ed5a2ea",
   "metadata": {},
   "outputs": [],
   "source": [
    "# read dataWithCleanٍSynopses dataSet\n",
    "df_1= pd.read_csv('C:/Users/DELL/Documents/GitHub/Egyptian-Movies-Data-Analysis/Data/MoviesWithSynopsisAndCategory.csv')\n",
    "df_2= pd.read_csv('C:/Users/DELL/Documents/GitHub/Egyptian-Movies-Data-Analysis/Data/MoviesWithoutSynopsisOrCategory.csv')\n",
    "arr = [df_1,df_2]\n",
    "df_movies = pd.concat(arr)\n",
    "df_movies=df_movies.reset_index(drop=True)"
   ]
  },
  {
   "cell_type": "code",
   "execution_count": 3,
   "id": "4eb52dc4",
   "metadata": {},
   "outputs": [],
   "source": [
    "df_movies.drop('بطولة ',axis='columns', inplace=True)"
   ]
  },
  {
   "cell_type": "code",
   "execution_count": 4,
   "id": "7c60abe0",
   "metadata": {},
   "outputs": [
    {
     "data": {
      "text/html": [
       "<div>\n",
       "<style scoped>\n",
       "    .dataframe tbody tr th:only-of-type {\n",
       "        vertical-align: middle;\n",
       "    }\n",
       "\n",
       "    .dataframe tbody tr th {\n",
       "        vertical-align: top;\n",
       "    }\n",
       "\n",
       "    .dataframe thead th {\n",
       "        text-align: right;\n",
       "    }\n",
       "</style>\n",
       "<table border=\"1\" class=\"dataframe\">\n",
       "  <thead>\n",
       "    <tr style=\"text-align: right;\">\n",
       "      <th></th>\n",
       "      <th>اسم الفيلم</th>\n",
       "      <th>تاريخ العرض</th>\n",
       "      <th>تصنيف الفيلم</th>\n",
       "      <th>مدة الفيلم (دقيقة)</th>\n",
       "      <th>ملخص</th>\n",
       "      <th>تمثيل</th>\n",
       "      <th>تأليف</th>\n",
       "      <th>إنتاج</th>\n",
       "      <th>تصوير</th>\n",
       "      <th>مونتاج</th>\n",
       "      <th>ديكور</th>\n",
       "      <th>ملابس</th>\n",
       "      <th>موسيقى</th>\n",
       "      <th>إخراج</th>\n",
       "      <th>توزيع</th>\n",
       "      <th>بطولة اولي</th>\n",
       "    </tr>\n",
       "  </thead>\n",
       "  <tbody>\n",
       "    <tr>\n",
       "      <th>0</th>\n",
       "      <td>قلب المرأة</td>\n",
       "      <td>1940</td>\n",
       "      <td>رومانسي</td>\n",
       "      <td>87</td>\n",
       "      <td>دار حدث فيلم خيري فتاه ثري مخطوب ابناء عموم تف...</td>\n",
       "      <td>سليمان نجيب,أمينة رزق,دولت أبيض,عقيلة راتب,سلو...</td>\n",
       "      <td>توجو مزراحي (أحمد المشرقي)</td>\n",
       "      <td>NaN</td>\n",
       "      <td>عبدالحليم نصر</td>\n",
       "      <td>NaN</td>\n",
       "      <td>NaN</td>\n",
       "      <td>NaN</td>\n",
       "      <td>NaN</td>\n",
       "      <td>توجو مزراحي (أحمد المشرقي)</td>\n",
       "      <td>منتخبات بهنا فيلم</td>\n",
       "      <td>سليمان نجيب</td>\n",
       "    </tr>\n",
       "    <tr>\n",
       "      <th>1</th>\n",
       "      <td>الورشة</td>\n",
       "      <td>1940</td>\n",
       "      <td>دراما</td>\n",
       "      <td>105</td>\n",
       "      <td>سافر سطا عبدالرحمن صاحب ورشه ميكانزم زميل رحله...</td>\n",
       "      <td>عزيزة أمير,محمود ذو الفقار,أنور وجدي,نجمة إبرا...</td>\n",
       "      <td>عزيزة أمير,محمود ذو الفقار</td>\n",
       "      <td>إيزيس فيلم</td>\n",
       "      <td>أرام ماراليان,فيرى فاركاش (فرانسوا فاركاش)</td>\n",
       "      <td>NaN</td>\n",
       "      <td>محمد كامل</td>\n",
       "      <td>NaN</td>\n",
       "      <td>عبدالحميد عبدالرحمن</td>\n",
       "      <td>إستيفان روستي</td>\n",
       "      <td>منتخبات بهنا فيلم</td>\n",
       "      <td>عزيزة أمير</td>\n",
       "    </tr>\n",
       "    <tr>\n",
       "      <th>2</th>\n",
       "      <td>حياة الظلام</td>\n",
       "      <td>1940</td>\n",
       "      <td>دراما</td>\n",
       "      <td>94</td>\n",
       "      <td>عاءله متوسط حال مكون زوج زوج ٱبن حصل ٱبن اجازه...</td>\n",
       "      <td>ميمي شكيب,محسن سرحان,روحية خالد,فردوس محمد,علي...</td>\n",
       "      <td>محمود كامل حسن,أحمد بدرخان</td>\n",
       "      <td>محمد جمال الدين رفعت</td>\n",
       "      <td>محمد عبدالعظيم</td>\n",
       "      <td>جمال مدكور</td>\n",
       "      <td>علي عابد,روبرت شارفنبرج</td>\n",
       "      <td>NaN</td>\n",
       "      <td>بيرم التونسي,عبدالحميد عبدالرحمن,محمد الكحلاوي...</td>\n",
       "      <td>أحمد بدرخان,فريد الجندي</td>\n",
       "      <td>NaN</td>\n",
       "      <td>ميمي شكيب</td>\n",
       "    </tr>\n",
       "    <tr>\n",
       "      <th>3</th>\n",
       "      <td>الباشمقاول</td>\n",
       "      <td>1940</td>\n",
       "      <td>دراما</td>\n",
       "      <td>85</td>\n",
       "      <td>دار حدث فيلم محامي ممتاز هوه مغازله نساء رغم ز...</td>\n",
       "      <td>فوزي الجزايرلي,ميمي شكيب,إحسان الجزايرلي,زوزو ...</td>\n",
       "      <td>بديع خيري,توجو مزراحي (أحمد المشرقي)</td>\n",
       "      <td>توجو مزراحي (أحمد المشرقي),عبدالحميد زكي</td>\n",
       "      <td>محمود نصر,عبدالحليم نصر</td>\n",
       "      <td>NaN</td>\n",
       "      <td>NaN</td>\n",
       "      <td>NaN</td>\n",
       "      <td>فريد غصن</td>\n",
       "      <td>توجو مزراحي (أحمد المشرقي),إبراهيم حلمي</td>\n",
       "      <td>منتخبات بهنا فيلم</td>\n",
       "      <td>فوزي الجزايرلي</td>\n",
       "    </tr>\n",
       "    <tr>\n",
       "      <th>4</th>\n",
       "      <td>يوم سعيد</td>\n",
       "      <td>1940</td>\n",
       "      <td>رومانسي</td>\n",
       "      <td>125</td>\n",
       "      <td>محمد كمال شاب بسيط هوه موسيقي غناء عطف صاحب بي...</td>\n",
       "      <td>محمد عبدالوهاب,علوية جميل,فاطمة محجوب,فاتن حما...</td>\n",
       "      <td>محمد كريم,عبدالوارث عسر,عباس علام</td>\n",
       "      <td>أفلام عبدالوهاب</td>\n",
       "      <td>محمد عبدالعظيم,جورج بنوا,بريما فيرا,مصطفى حسن</td>\n",
       "      <td>محمد كريم</td>\n",
       "      <td>حسين رستم</td>\n",
       "      <td>NaN</td>\n",
       "      <td>محمد عبدالوهاب,أحمد رامي,عزت الهجين,بشارة الخو...</td>\n",
       "      <td>محمد كريم</td>\n",
       "      <td>NaN</td>\n",
       "      <td>محمد عبدالوهاب</td>\n",
       "    </tr>\n",
       "    <tr>\n",
       "      <th>...</th>\n",
       "      <td>...</td>\n",
       "      <td>...</td>\n",
       "      <td>...</td>\n",
       "      <td>...</td>\n",
       "      <td>...</td>\n",
       "      <td>...</td>\n",
       "      <td>...</td>\n",
       "      <td>...</td>\n",
       "      <td>...</td>\n",
       "      <td>...</td>\n",
       "      <td>...</td>\n",
       "      <td>...</td>\n",
       "      <td>...</td>\n",
       "      <td>...</td>\n",
       "      <td>...</td>\n",
       "      <td>...</td>\n",
       "    </tr>\n",
       "    <tr>\n",
       "      <th>2364</th>\n",
       "      <td>اشانتي</td>\n",
       "      <td>1979</td>\n",
       "      <td>NaN</td>\n",
       "      <td>-</td>\n",
       "      <td>ملخص</td>\n",
       "      <td>عمر الشريف</td>\n",
       "      <td>NaN</td>\n",
       "      <td>NaN</td>\n",
       "      <td>NaN</td>\n",
       "      <td>NaN</td>\n",
       "      <td>NaN</td>\n",
       "      <td>NaN</td>\n",
       "      <td>NaN</td>\n",
       "      <td>NaN</td>\n",
       "      <td>NaN</td>\n",
       "      <td>عمر الشريف</td>\n",
       "    </tr>\n",
       "    <tr>\n",
       "      <th>2365</th>\n",
       "      <td>الرقص على أنغام البارود</td>\n",
       "      <td>1979</td>\n",
       "      <td>كوميدي</td>\n",
       "      <td>65</td>\n",
       "      <td>ملخص</td>\n",
       "      <td>نجوى فؤاد,يونس شلبي,وحيد سيف,هدى سلطان,سهير زك...</td>\n",
       "      <td>فتحي عبدالستار</td>\n",
       "      <td>حسن موافى</td>\n",
       "      <td>NaN</td>\n",
       "      <td>NaN</td>\n",
       "      <td>NaN</td>\n",
       "      <td>NaN</td>\n",
       "      <td>NaN</td>\n",
       "      <td>فتحي عبدالستار,عاطف شعلان</td>\n",
       "      <td>NaN</td>\n",
       "      <td>نجوى فؤاد</td>\n",
       "    </tr>\n",
       "    <tr>\n",
       "      <th>2366</th>\n",
       "      <td>لعنة الزمن</td>\n",
       "      <td>1979</td>\n",
       "      <td>NaN</td>\n",
       "      <td>105</td>\n",
       "      <td>ٱستغني عطيه صديق سطا حسن عامل مطبع ملك تصدي سط...</td>\n",
       "      <td>فريد شوقي,عادل أدهم,بوسي,صلاح السعدني,خالد زكي...</td>\n",
       "      <td>آرثر ميلر,فيصل ندا</td>\n",
       "      <td>أفلام جمال التابعي,غطاس قلتة,جمال التابعي</td>\n",
       "      <td>علي خير الله,عادل أسعد</td>\n",
       "      <td>صلاح عبدالرازق,ليلى فهمي,حسين محمود,صلاح خليل</td>\n",
       "      <td>NaN</td>\n",
       "      <td>NaN</td>\n",
       "      <td>فؤاد الظاهري</td>\n",
       "      <td>أحمد السبعاوي,سمير حافظ,كمال الحمصاني</td>\n",
       "      <td>الشركة اللبنانية للتجارة والاستثمار السينمائي ...</td>\n",
       "      <td>NaN</td>\n",
       "    </tr>\n",
       "    <tr>\n",
       "      <th>2367</th>\n",
       "      <td>لا يا أمي</td>\n",
       "      <td>1979</td>\n",
       "      <td>NaN</td>\n",
       "      <td>100</td>\n",
       "      <td>احمد مهندس شركه مقاول ملك ابراهيم وصل مركز مهم...</td>\n",
       "      <td>فريد شوقي,مديحة كامل,مجدي وهبة,عماد حمدي,سيد ا...</td>\n",
       "      <td>ناصر حسين,محمد عثمان</td>\n",
       "      <td>الفيلم الماسى للإنتاج السينمائى,صلاح عمران,طلع...</td>\n",
       "      <td>عبدالمنعم بهنسي,غنيم بهنسي,محمد زغلول</td>\n",
       "      <td>فتحي داود,ليلى السايس,محمد ابراهيم</td>\n",
       "      <td>محمد إسماعيل</td>\n",
       "      <td>NaN</td>\n",
       "      <td>أحمد أبو زيد</td>\n",
       "      <td>ناصر حسين,ملاك أندراوس,سيد فضل</td>\n",
       "      <td>سليمان فيلم,الشركة اللبنانية للتجارة والاستثما...</td>\n",
       "      <td>NaN</td>\n",
       "    </tr>\n",
       "    <tr>\n",
       "      <th>2368</th>\n",
       "      <td>الهويس</td>\n",
       "      <td>1979</td>\n",
       "      <td>NaN</td>\n",
       "      <td>-</td>\n",
       "      <td>ملخص</td>\n",
       "      <td>محمد الصاوي,شريف صبري</td>\n",
       "      <td>NaN</td>\n",
       "      <td>NaN</td>\n",
       "      <td>NaN</td>\n",
       "      <td>NaN</td>\n",
       "      <td>NaN</td>\n",
       "      <td>NaN</td>\n",
       "      <td>NaN</td>\n",
       "      <td>NaN</td>\n",
       "      <td>NaN</td>\n",
       "      <td>NaN</td>\n",
       "    </tr>\n",
       "  </tbody>\n",
       "</table>\n",
       "<p>2369 rows × 16 columns</p>\n",
       "</div>"
      ],
      "text/plain": [
       "                   اسم الفيلم  تاريخ العرض تصنيف الفيلم مدة الفيلم (دقيقة)  \\\n",
       "0                  قلب المرأة         1940      رومانسي                 87   \n",
       "1                      الورشة         1940        دراما                105   \n",
       "2                 حياة الظلام         1940        دراما                 94   \n",
       "3                  الباشمقاول         1940        دراما                 85   \n",
       "4                    يوم سعيد         1940      رومانسي                125   \n",
       "...                       ...          ...          ...                ...   \n",
       "2364                   اشانتي         1979          NaN                  -   \n",
       "2365  الرقص على أنغام البارود         1979       كوميدي                 65   \n",
       "2366               لعنة الزمن         1979          NaN                105   \n",
       "2367                لا يا أمي         1979          NaN                100   \n",
       "2368                   الهويس         1979          NaN                  -   \n",
       "\n",
       "                                                   ملخص  \\\n",
       "0     دار حدث فيلم خيري فتاه ثري مخطوب ابناء عموم تف...   \n",
       "1     سافر سطا عبدالرحمن صاحب ورشه ميكانزم زميل رحله...   \n",
       "2     عاءله متوسط حال مكون زوج زوج ٱبن حصل ٱبن اجازه...   \n",
       "3     دار حدث فيلم محامي ممتاز هوه مغازله نساء رغم ز...   \n",
       "4     محمد كمال شاب بسيط هوه موسيقي غناء عطف صاحب بي...   \n",
       "...                                                 ...   \n",
       "2364                                               ملخص   \n",
       "2365                                               ملخص   \n",
       "2366  ٱستغني عطيه صديق سطا حسن عامل مطبع ملك تصدي سط...   \n",
       "2367  احمد مهندس شركه مقاول ملك ابراهيم وصل مركز مهم...   \n",
       "2368                                               ملخص   \n",
       "\n",
       "                                                  تمثيل  \\\n",
       "0     سليمان نجيب,أمينة رزق,دولت أبيض,عقيلة راتب,سلو...   \n",
       "1     عزيزة أمير,محمود ذو الفقار,أنور وجدي,نجمة إبرا...   \n",
       "2     ميمي شكيب,محسن سرحان,روحية خالد,فردوس محمد,علي...   \n",
       "3     فوزي الجزايرلي,ميمي شكيب,إحسان الجزايرلي,زوزو ...   \n",
       "4     محمد عبدالوهاب,علوية جميل,فاطمة محجوب,فاتن حما...   \n",
       "...                                                 ...   \n",
       "2364                                         عمر الشريف   \n",
       "2365  نجوى فؤاد,يونس شلبي,وحيد سيف,هدى سلطان,سهير زك...   \n",
       "2366  فريد شوقي,عادل أدهم,بوسي,صلاح السعدني,خالد زكي...   \n",
       "2367  فريد شوقي,مديحة كامل,مجدي وهبة,عماد حمدي,سيد ا...   \n",
       "2368                              محمد الصاوي,شريف صبري   \n",
       "\n",
       "                                     تأليف  \\\n",
       "0               توجو مزراحي (أحمد المشرقي)   \n",
       "1               عزيزة أمير,محمود ذو الفقار   \n",
       "2               محمود كامل حسن,أحمد بدرخان   \n",
       "3     بديع خيري,توجو مزراحي (أحمد المشرقي)   \n",
       "4        محمد كريم,عبدالوارث عسر,عباس علام   \n",
       "...                                    ...   \n",
       "2364                                   NaN   \n",
       "2365                        فتحي عبدالستار   \n",
       "2366                    آرثر ميلر,فيصل ندا   \n",
       "2367                  ناصر حسين,محمد عثمان   \n",
       "2368                                   NaN   \n",
       "\n",
       "                                                  إنتاج  \\\n",
       "0                                                   NaN   \n",
       "1                                            إيزيس فيلم   \n",
       "2                                  محمد جمال الدين رفعت   \n",
       "3              توجو مزراحي (أحمد المشرقي),عبدالحميد زكي   \n",
       "4                                       أفلام عبدالوهاب   \n",
       "...                                                 ...   \n",
       "2364                                                NaN   \n",
       "2365                                          حسن موافى   \n",
       "2366          أفلام جمال التابعي,غطاس قلتة,جمال التابعي   \n",
       "2367  الفيلم الماسى للإنتاج السينمائى,صلاح عمران,طلع...   \n",
       "2368                                                NaN   \n",
       "\n",
       "                                              تصوير  \\\n",
       "0                                     عبدالحليم نصر   \n",
       "1        أرام ماراليان,فيرى فاركاش (فرانسوا فاركاش)   \n",
       "2                                    محمد عبدالعظيم   \n",
       "3                           محمود نصر,عبدالحليم نصر   \n",
       "4     محمد عبدالعظيم,جورج بنوا,بريما فيرا,مصطفى حسن   \n",
       "...                                             ...   \n",
       "2364                                            NaN   \n",
       "2365                                            NaN   \n",
       "2366                         علي خير الله,عادل أسعد   \n",
       "2367          عبدالمنعم بهنسي,غنيم بهنسي,محمد زغلول   \n",
       "2368                                            NaN   \n",
       "\n",
       "                                             مونتاج                    ديكور  \\\n",
       "0                                               NaN                      NaN   \n",
       "1                                               NaN                محمد كامل   \n",
       "2                                        جمال مدكور  علي عابد,روبرت شارفنبرج   \n",
       "3                                               NaN                      NaN   \n",
       "4                                         محمد كريم                حسين رستم   \n",
       "...                                             ...                      ...   \n",
       "2364                                            NaN                      NaN   \n",
       "2365                                            NaN                      NaN   \n",
       "2366  صلاح عبدالرازق,ليلى فهمي,حسين محمود,صلاح خليل                      NaN   \n",
       "2367             فتحي داود,ليلى السايس,محمد ابراهيم             محمد إسماعيل   \n",
       "2368                                            NaN                      NaN   \n",
       "\n",
       "     ملابس                                             موسيقى  \\\n",
       "0      NaN                                                NaN   \n",
       "1      NaN                                عبدالحميد عبدالرحمن   \n",
       "2      NaN  بيرم التونسي,عبدالحميد عبدالرحمن,محمد الكحلاوي...   \n",
       "3      NaN                                           فريد غصن   \n",
       "4      NaN  محمد عبدالوهاب,أحمد رامي,عزت الهجين,بشارة الخو...   \n",
       "...    ...                                                ...   \n",
       "2364   NaN                                                NaN   \n",
       "2365   NaN                                                NaN   \n",
       "2366   NaN                                       فؤاد الظاهري   \n",
       "2367   NaN                                       أحمد أبو زيد   \n",
       "2368   NaN                                                NaN   \n",
       "\n",
       "                                        إخراج  \\\n",
       "0                  توجو مزراحي (أحمد المشرقي)   \n",
       "1                               إستيفان روستي   \n",
       "2                     أحمد بدرخان,فريد الجندي   \n",
       "3     توجو مزراحي (أحمد المشرقي),إبراهيم حلمي   \n",
       "4                                   محمد كريم   \n",
       "...                                       ...   \n",
       "2364                                      NaN   \n",
       "2365                فتحي عبدالستار,عاطف شعلان   \n",
       "2366    أحمد السبعاوي,سمير حافظ,كمال الحمصاني   \n",
       "2367           ناصر حسين,ملاك أندراوس,سيد فضل   \n",
       "2368                                      NaN   \n",
       "\n",
       "                                                  توزيع      بطولة اولي  \n",
       "0                                     منتخبات بهنا فيلم     سليمان نجيب  \n",
       "1                                     منتخبات بهنا فيلم      عزيزة أمير  \n",
       "2                                                   NaN       ميمي شكيب  \n",
       "3                                     منتخبات بهنا فيلم  فوزي الجزايرلي  \n",
       "4                                                   NaN  محمد عبدالوهاب  \n",
       "...                                                 ...             ...  \n",
       "2364                                                NaN      عمر الشريف  \n",
       "2365                                                NaN       نجوى فؤاد  \n",
       "2366  الشركة اللبنانية للتجارة والاستثمار السينمائي ...             NaN  \n",
       "2367  سليمان فيلم,الشركة اللبنانية للتجارة والاستثما...             NaN  \n",
       "2368                                                NaN             NaN  \n",
       "\n",
       "[2369 rows x 16 columns]"
      ]
     },
     "execution_count": 4,
     "metadata": {},
     "output_type": "execute_result"
    }
   ],
   "source": [
    "df_movies"
   ]
  },
  {
   "cell_type": "code",
   "execution_count": 5,
   "id": "73f470c3",
   "metadata": {},
   "outputs": [],
   "source": [
    "df_movies.replace('ملخص', np.nan, inplace=True)\n",
    "df_movies.replace('-', np.nan, inplace=True)\n",
    "df_movies[\"مدة الفيلم (دقيقة)\"] = df_movies[\"مدة الفيلم (دقيقة)\"].astype(float)"
   ]
  },
  {
   "cell_type": "code",
   "execution_count": 6,
   "id": "17a69403",
   "metadata": {},
   "outputs": [
    {
     "name": "stdout",
     "output_type": "stream",
     "text": [
      "اسم الفيلم               0\n",
      "تاريخ العرض              0\n",
      "تصنيف الفيلم          1150\n",
      "مدة الفيلم (دقيقة)     574\n",
      "ملخص                   300\n",
      "تمثيل                  114\n",
      "تأليف                  284\n",
      "إنتاج                  557\n",
      "تصوير                  470\n",
      "مونتاج                 638\n",
      "ديكور                  910\n",
      "ملابس                 2093\n",
      "موسيقى                 980\n",
      "إخراج                  193\n",
      "توزيع                 1264\n",
      "بطولة اولي             117\n",
      "dtype: int64\n"
     ]
    }
   ],
   "source": [
    "#check null count\n",
    "print(df_movies.isnull().sum())"
   ]
  },
  {
   "cell_type": "code",
   "execution_count": 7,
   "id": "a1b25dc8",
   "metadata": {},
   "outputs": [],
   "source": [
    "#split our data into 3 dataSets\n",
    "df_synoposis_And_category=df_movies[(df_movies['ملخص'].isnull()==False)&(df_movies['تصنيف الفيلم'].isnull()==False)]\n",
    "df_synoposis_And_category=df_synoposis_And_category.reset_index(drop=True)\n",
    "\n",
    "df_synoposis_And_NoCategory=df_movies[(df_movies['ملخص'].isnull()==False)&(df_movies['تصنيف الفيلم'].isnull()==True)]\n",
    "df_synoposis_And_NoCategory=df_synoposis_And_NoCategory.reset_index(drop=True)\n",
    "\n",
    "df_NoSynoposis=df_movies[(df_movies['ملخص'].isnull()==True)]\n",
    "df_NoSynoposis=df_NoSynoposis.reset_index(drop=True)"
   ]
  },
  {
   "cell_type": "markdown",
   "id": "c403256d",
   "metadata": {},
   "source": [
    "## Classifier section"
   ]
  },
  {
   "cell_type": "code",
   "execution_count": 8,
   "id": "a994fd7e",
   "metadata": {},
   "outputs": [],
   "source": [
    "train= df_synoposis_And_category.copy()\n",
    "test= df_synoposis_And_NoCategory.copy()"
   ]
  },
  {
   "cell_type": "code",
   "execution_count": 9,
   "id": "d07c6e3d",
   "metadata": {},
   "outputs": [],
   "source": [
    "text_transformer = TfidfVectorizer( ngram_range=(1, 2),  max_features=150000)"
   ]
  },
  {
   "cell_type": "code",
   "execution_count": 10,
   "id": "cae2276f",
   "metadata": {},
   "outputs": [
    {
     "name": "stdout",
     "output_type": "stream",
     "text": [
      "Wall time: 443 ms\n"
     ]
    }
   ],
   "source": [
    "%%time\n",
    "X_train_text = text_transformer.fit_transform(train['ملخص'])\n",
    "X_test_text = text_transformer.transform(test['ملخص'])"
   ]
  },
  {
   "cell_type": "code",
   "execution_count": 11,
   "id": "65e97fea",
   "metadata": {},
   "outputs": [
    {
     "data": {
      "text/plain": [
       "((1183, 59595), (886, 59595))"
      ]
     },
     "execution_count": 11,
     "metadata": {},
     "output_type": "execute_result"
    }
   ],
   "source": [
    "X_train_text.shape,X_test_text.shape"
   ]
  },
  {
   "cell_type": "code",
   "execution_count": 12,
   "id": "8591846e",
   "metadata": {},
   "outputs": [],
   "source": [
    "logit = LogisticRegression(C=5e1, solver='lbfgs', multi_class='multinomial', random_state=17, n_jobs=4)"
   ]
  },
  {
   "cell_type": "code",
   "execution_count": 13,
   "id": "31edf717",
   "metadata": {},
   "outputs": [],
   "source": [
    "skf = StratifiedKFold(n_splits=2, shuffle=True, random_state=17)"
   ]
  },
  {
   "cell_type": "code",
   "execution_count": 14,
   "id": "d16d7a60",
   "metadata": {},
   "outputs": [
    {
     "name": "stderr",
     "output_type": "stream",
     "text": [
      "c:\\python39\\lib\\site-packages\\sklearn\\model_selection\\_split.py:666: UserWarning: The least populated class in y has only 1 members, which is less than n_splits=2.\n",
      "  warnings.warn((\"The least populated class in y has only %d\"\n"
     ]
    },
    {
     "name": "stdout",
     "output_type": "stream",
     "text": [
      "Wall time: 33.5 s\n"
     ]
    }
   ],
   "source": [
    "%%time\n",
    "cv_results = cross_val_score(logit, X_train_text, train['تصنيف الفيلم'], cv=skf, scoring='f1_micro')"
   ]
  },
  {
   "cell_type": "code",
   "execution_count": 15,
   "id": "3baa7279",
   "metadata": {},
   "outputs": [
    {
     "data": {
      "text/plain": [
       "(array([0.46790541, 0.47038917]), 0.4691472881510953)"
      ]
     },
     "execution_count": 15,
     "metadata": {},
     "output_type": "execute_result"
    }
   ],
   "source": [
    "cv_results, cv_results.mean()"
   ]
  },
  {
   "cell_type": "code",
   "execution_count": 16,
   "id": "02946b6a",
   "metadata": {},
   "outputs": [
    {
     "name": "stdout",
     "output_type": "stream",
     "text": [
      "Wall time: 17.2 s\n"
     ]
    },
    {
     "data": {
      "text/plain": [
       "LogisticRegression(C=50.0, multi_class='multinomial', n_jobs=4, random_state=17)"
      ]
     },
     "execution_count": 16,
     "metadata": {},
     "output_type": "execute_result"
    }
   ],
   "source": [
    "%%time\n",
    "logit.fit(X_train_text, train['تصنيف الفيلم'])"
   ]
  },
  {
   "cell_type": "code",
   "execution_count": 17,
   "id": "1446364e",
   "metadata": {},
   "outputs": [],
   "source": [
    "#%%time\n",
    "#eli5.show_weights(estimator=logit, \n",
    "#                  feature_names= list(text_transformer.get_feature_names()),\n",
    "#                 top=(50, 5))"
   ]
  },
  {
   "cell_type": "code",
   "execution_count": 18,
   "id": "821d5bc0",
   "metadata": {},
   "outputs": [
    {
     "data": {
      "text/html": [
       "<div>\n",
       "<style scoped>\n",
       "    .dataframe tbody tr th:only-of-type {\n",
       "        vertical-align: middle;\n",
       "    }\n",
       "\n",
       "    .dataframe tbody tr th {\n",
       "        vertical-align: top;\n",
       "    }\n",
       "\n",
       "    .dataframe thead th {\n",
       "        text-align: right;\n",
       "    }\n",
       "</style>\n",
       "<table border=\"1\" class=\"dataframe\">\n",
       "  <thead>\n",
       "    <tr style=\"text-align: right;\">\n",
       "      <th></th>\n",
       "      <th>تصنيف</th>\n",
       "    </tr>\n",
       "  </thead>\n",
       "  <tbody>\n",
       "    <tr>\n",
       "      <th>0</th>\n",
       "      <td>دراما</td>\n",
       "    </tr>\n",
       "    <tr>\n",
       "      <th>1</th>\n",
       "      <td>دراما</td>\n",
       "    </tr>\n",
       "    <tr>\n",
       "      <th>2</th>\n",
       "      <td>دراما</td>\n",
       "    </tr>\n",
       "    <tr>\n",
       "      <th>3</th>\n",
       "      <td>دراما</td>\n",
       "    </tr>\n",
       "    <tr>\n",
       "      <th>4</th>\n",
       "      <td>دراما</td>\n",
       "    </tr>\n",
       "    <tr>\n",
       "      <th>...</th>\n",
       "      <td>...</td>\n",
       "    </tr>\n",
       "    <tr>\n",
       "      <th>881</th>\n",
       "      <td>رومانسي</td>\n",
       "    </tr>\n",
       "    <tr>\n",
       "      <th>882</th>\n",
       "      <td>دراما</td>\n",
       "    </tr>\n",
       "    <tr>\n",
       "      <th>883</th>\n",
       "      <td>دراما</td>\n",
       "    </tr>\n",
       "    <tr>\n",
       "      <th>884</th>\n",
       "      <td>دراما</td>\n",
       "    </tr>\n",
       "    <tr>\n",
       "      <th>885</th>\n",
       "      <td>دراما</td>\n",
       "    </tr>\n",
       "  </tbody>\n",
       "</table>\n",
       "<p>886 rows × 1 columns</p>\n",
       "</div>"
      ],
      "text/plain": [
       "       تصنيف\n",
       "0      دراما\n",
       "1      دراما\n",
       "2      دراما\n",
       "3      دراما\n",
       "4      دراما\n",
       "..       ...\n",
       "881  رومانسي\n",
       "882    دراما\n",
       "883    دراما\n",
       "884    دراما\n",
       "885    دراما\n",
       "\n",
       "[886 rows x 1 columns]"
      ]
     },
     "execution_count": 18,
     "metadata": {},
     "output_type": "execute_result"
    }
   ],
   "source": [
    "test_preds = logit.predict(X_test_text)\n",
    "pd.DataFrame(test_preds, columns=['تصنيف'])"
   ]
  },
  {
   "cell_type": "code",
   "execution_count": 19,
   "id": "a47add6e",
   "metadata": {},
   "outputs": [],
   "source": [
    "# impute the missing values for تصنيف الفيلم based on classifier results\n",
    "df_synoposis_And_NoCategory['تصنيف الفيلم']=test_preds"
   ]
  },
  {
   "cell_type": "code",
   "execution_count": 20,
   "id": "d3a9aa86",
   "metadata": {},
   "outputs": [],
   "source": [
    "#merge the 3 data frames into One\n",
    "frames = [df_synoposis_And_category,df_synoposis_And_NoCategory, df_NoSynoposis]\n",
    "df_movies_updated = pd.concat(frames)\n",
    "df_movies_updated=df_movies_updated.reset_index(drop=True)"
   ]
  },
  {
   "cell_type": "code",
   "execution_count": 21,
   "id": "a65dbdfc",
   "metadata": {},
   "outputs": [
    {
     "name": "stdout",
     "output_type": "stream",
     "text": [
      "اسم الفيلم               0\n",
      "تاريخ العرض              0\n",
      "تصنيف الفيلم           264\n",
      "مدة الفيلم (دقيقة)     574\n",
      "ملخص                   300\n",
      "تمثيل                  114\n",
      "تأليف                  284\n",
      "إنتاج                  557\n",
      "تصوير                  470\n",
      "مونتاج                 638\n",
      "ديكور                  910\n",
      "ملابس                 2093\n",
      "موسيقى                 980\n",
      "إخراج                  193\n",
      "توزيع                 1264\n",
      "بطولة اولي             117\n",
      "dtype: int64\n"
     ]
    }
   ],
   "source": [
    "print(df_movies_updated.isnull().sum())"
   ]
  },
  {
   "cell_type": "code",
   "execution_count": 22,
   "id": "0ab72e82",
   "metadata": {},
   "outputs": [
    {
     "name": "stdout",
     "output_type": "stream",
     "text": [
      "اسم الفيلم               0\n",
      "تاريخ العرض              0\n",
      "تصنيف الفيلم             0\n",
      "مدة الفيلم (دقيقة)     574\n",
      "ملخص                   300\n",
      "تمثيل                  114\n",
      "تأليف                  284\n",
      "إنتاج                  557\n",
      "تصوير                  470\n",
      "مونتاج                 638\n",
      "ديكور                  910\n",
      "ملابس                 2093\n",
      "موسيقى                 980\n",
      "إخراج                  193\n",
      "توزيع                 1264\n",
      "بطولة اولي             117\n",
      "dtype: int64\n"
     ]
    }
   ],
   "source": [
    "#Do additinal mode imputation for the remainig null valus\n",
    "df_movies_updated[\"تصنيف الفيلم\"].fillna(df_movies_updated[\"تصنيف الفيلم\"].mode()[0], inplace=True)\n",
    "print(df_movies_updated.isnull().sum())"
   ]
  },
  {
   "cell_type": "code",
   "execution_count": null,
   "id": "369acb3f",
   "metadata": {},
   "outputs": [],
   "source": []
  },
  {
   "cell_type": "code",
   "execution_count": null,
   "id": "6aee105b",
   "metadata": {},
   "outputs": [],
   "source": []
  },
  {
   "cell_type": "code",
   "execution_count": null,
   "id": "8f800d47",
   "metadata": {},
   "outputs": [],
   "source": []
  },
  {
   "cell_type": "code",
   "execution_count": null,
   "id": "9040ef69",
   "metadata": {},
   "outputs": [],
   "source": []
  },
  {
   "cell_type": "code",
   "execution_count": null,
   "id": "2572cd1b",
   "metadata": {},
   "outputs": [],
   "source": []
  },
  {
   "cell_type": "markdown",
   "id": "b92c7432",
   "metadata": {},
   "source": [
    "## Duration Imputation"
   ]
  },
  {
   "cell_type": "code",
   "execution_count": 23,
   "id": "8d5af09b",
   "metadata": {},
   "outputs": [
    {
     "data": {
      "text/plain": [
       "count      2369\n",
       "unique       20\n",
       "top       دراما\n",
       "freq       1581\n",
       "Name: تصنيف الفيلم, dtype: object"
      ]
     },
     "execution_count": 23,
     "metadata": {},
     "output_type": "execute_result"
    }
   ],
   "source": [
    "df_movies_updated['تصنيف الفيلم'].describe()"
   ]
  },
  {
   "cell_type": "code",
   "execution_count": 24,
   "id": "14a4d773",
   "metadata": {},
   "outputs": [
    {
     "name": "stdout",
     "output_type": "stream",
     "text": [
      "اسم الفيلم               0\n",
      "تاريخ العرض              0\n",
      "تصنيف الفيلم             0\n",
      "مدة الفيلم (دقيقة)     574\n",
      "ملخص                   300\n",
      "تمثيل                  114\n",
      "تأليف                  284\n",
      "إنتاج                  557\n",
      "تصوير                  470\n",
      "مونتاج                 638\n",
      "ديكور                  910\n",
      "ملابس                 2093\n",
      "موسيقى                 980\n",
      "إخراج                  193\n",
      "توزيع                 1264\n",
      "بطولة اولي             117\n",
      "dtype: int64\n"
     ]
    }
   ],
   "source": [
    "print(df_movies_updated.isnull().sum())"
   ]
  },
  {
   "cell_type": "code",
   "execution_count": 25,
   "id": "7984643b",
   "metadata": {},
   "outputs": [],
   "source": [
    "# method defiend for multivarient imputation\n",
    "def impute_numerical(df,categorical_column, numerical_column):\n",
    "    print(categorical_column)\n",
    "    frames_func = []\n",
    "    for i in list(set(df[categorical_column])):\n",
    "        df_category = df[df[categorical_column]== i]\n",
    "        if len(df_category) > 1:    \n",
    "            df_category[numerical_column].fillna(df_category[numerical_column].mean(),inplace = True)        \n",
    "        else:\n",
    "            df_category[numerical_column].fillna(df[numerical_column].mean(),inplace = True)\n",
    "        frames_func.append(df_category)    \n",
    "        final_df = pd.concat(frames_func)\n",
    "    return final_df"
   ]
  },
  {
   "cell_type": "code",
   "execution_count": null,
   "id": "fc286a05",
   "metadata": {},
   "outputs": [],
   "source": []
  },
  {
   "cell_type": "code",
   "execution_count": 26,
   "id": "3de67ab6",
   "metadata": {},
   "outputs": [
    {
     "name": "stdout",
     "output_type": "stream",
     "text": [
      "تصنيف الفيلم\n"
     ]
    },
    {
     "name": "stderr",
     "output_type": "stream",
     "text": [
      "c:\\python39\\lib\\site-packages\\pandas\\core\\series.py:4463: SettingWithCopyWarning: \n",
      "A value is trying to be set on a copy of a slice from a DataFrame\n",
      "\n",
      "See the caveats in the documentation: https://pandas.pydata.org/pandas-docs/stable/user_guide/indexing.html#returning-a-view-versus-a-copy\n",
      "  return super().fillna(\n"
     ]
    }
   ],
   "source": [
    "#impute duration for all null values based on the category\n",
    "df_movies_final  = impute_numerical(df_movies_updated,'تصنيف الفيلم','مدة الفيلم (دقيقة)')\n",
    "df_movies_final=df_movies_final.reset_index(drop=True)\n"
   ]
  },
  {
   "cell_type": "code",
   "execution_count": 27,
   "id": "60dfa885",
   "metadata": {},
   "outputs": [
    {
     "name": "stdout",
     "output_type": "stream",
     "text": [
      "اسم الفيلم               0\n",
      "تاريخ العرض              0\n",
      "تصنيف الفيلم             0\n",
      "مدة الفيلم (دقيقة)       0\n",
      "ملخص                   300\n",
      "تمثيل                  114\n",
      "تأليف                  284\n",
      "إنتاج                  557\n",
      "تصوير                  470\n",
      "مونتاج                 638\n",
      "ديكور                  910\n",
      "ملابس                 2093\n",
      "موسيقى                 980\n",
      "إخراج                  193\n",
      "توزيع                 1264\n",
      "بطولة اولي             117\n",
      "dtype: int64\n"
     ]
    }
   ],
   "source": [
    "print(df_movies_final.isnull().sum())"
   ]
  },
  {
   "cell_type": "code",
   "execution_count": 28,
   "id": "934297b4",
   "metadata": {},
   "outputs": [
    {
     "data": {
      "text/html": [
       "<div>\n",
       "<style scoped>\n",
       "    .dataframe tbody tr th:only-of-type {\n",
       "        vertical-align: middle;\n",
       "    }\n",
       "\n",
       "    .dataframe tbody tr th {\n",
       "        vertical-align: top;\n",
       "    }\n",
       "\n",
       "    .dataframe thead th {\n",
       "        text-align: right;\n",
       "    }\n",
       "</style>\n",
       "<table border=\"1\" class=\"dataframe\">\n",
       "  <thead>\n",
       "    <tr style=\"text-align: right;\">\n",
       "      <th></th>\n",
       "      <th>اسم الفيلم</th>\n",
       "      <th>تاريخ العرض</th>\n",
       "      <th>تصنيف الفيلم</th>\n",
       "      <th>مدة الفيلم (دقيقة)</th>\n",
       "      <th>ملخص</th>\n",
       "      <th>تمثيل</th>\n",
       "      <th>تأليف</th>\n",
       "      <th>إنتاج</th>\n",
       "      <th>تصوير</th>\n",
       "      <th>مونتاج</th>\n",
       "      <th>ديكور</th>\n",
       "      <th>ملابس</th>\n",
       "      <th>موسيقى</th>\n",
       "      <th>إخراج</th>\n",
       "      <th>توزيع</th>\n",
       "      <th>بطولة اولي</th>\n",
       "    </tr>\n",
       "  </thead>\n",
       "  <tbody>\n",
       "    <tr>\n",
       "      <th>0</th>\n",
       "      <td>رابحة</td>\n",
       "      <td>1945</td>\n",
       "      <td>تاريخي</td>\n",
       "      <td>105.0</td>\n",
       "      <td>رابح فتاه بدوي قبيل متعصب ٱلتقي صدفه شاب مدينه...</td>\n",
       "      <td>كوكا,بدر لاما,سراج منير,عباس فارس,بشارة واكيم,...</td>\n",
       "      <td>بيرم التونسي,محمود تيمور,نيازي مصطفى</td>\n",
       "      <td>NaN</td>\n",
       "      <td>محمد عبدالعظيم,مصطفى حسن</td>\n",
       "      <td>جلال مصطفى</td>\n",
       "      <td>ولي الدين سامح</td>\n",
       "      <td>NaN</td>\n",
       "      <td>عبدالحميد عبدالرحمن,محمد الكحلاوي,آمال حسين</td>\n",
       "      <td>نيازي مصطفى</td>\n",
       "      <td>NaN</td>\n",
       "      <td>كوكا</td>\n",
       "    </tr>\n",
       "    <tr>\n",
       "      <th>1</th>\n",
       "      <td>فتح مصر</td>\n",
       "      <td>1948</td>\n",
       "      <td>تاريخي</td>\n",
       "      <td>110.0</td>\n",
       "      <td>تناول فيلم حقب تاريخ شعب مصري يكابد شتي نوع عذ...</td>\n",
       "      <td>لولا صدقي,أحمد البيه,منسى فهمي,رفيعة الشال,أحم...</td>\n",
       "      <td>جليل البنداري,محمد صبيح,فؤاد الجزايرلي</td>\n",
       "      <td>أفلام النسر</td>\n",
       "      <td>أوهان</td>\n",
       "      <td>جلال مصطفى</td>\n",
       "      <td>روبرت شارفنبرج</td>\n",
       "      <td>NaN</td>\n",
       "      <td>NaN</td>\n",
       "      <td>فؤاد الجزايرلي</td>\n",
       "      <td>ستوديو مصر</td>\n",
       "      <td>لولا صدقي</td>\n",
       "    </tr>\n",
       "    <tr>\n",
       "      <th>2</th>\n",
       "      <td>ظهور الإسلام (الوعد الحق)</td>\n",
       "      <td>1951</td>\n",
       "      <td>تاريخي</td>\n",
       "      <td>95.0</td>\n",
       "      <td>تناول عمل حياه جزيره عربي اظهر اسلام حياه عبار...</td>\n",
       "      <td>كوكا,عماد حمدي,عباس فارس,سراج منير,زكي إبراهيم...</td>\n",
       "      <td>إبراهيم عز الدين,طه حسين</td>\n",
       "      <td>أفلام المصري (إبراهيم عز الدين عزقلاني)</td>\n",
       "      <td>والتر هاجوب,والترها جوب,حسن البحيري,محمد عز العرب</td>\n",
       "      <td>حسن حلمي (حسنوف),كمال الشيخ</td>\n",
       "      <td>ستوديو مصر,نجيب خوري,أنطوان بوليزويس</td>\n",
       "      <td>NaN</td>\n",
       "      <td>NaN</td>\n",
       "      <td>إبراهيم عز الدين,حمادة عبدالوهاب,شريف حمودة</td>\n",
       "      <td>NaN</td>\n",
       "      <td>كوكا</td>\n",
       "    </tr>\n",
       "  </tbody>\n",
       "</table>\n",
       "</div>"
      ],
      "text/plain": [
       "                  اسم الفيلم  تاريخ العرض تصنيف الفيلم  مدة الفيلم (دقيقة)  \\\n",
       "0                      رابحة         1945       تاريخي               105.0   \n",
       "1                    فتح مصر         1948       تاريخي               110.0   \n",
       "2  ظهور الإسلام (الوعد الحق)         1951       تاريخي                95.0   \n",
       "\n",
       "                                                ملخص  \\\n",
       "0  رابح فتاه بدوي قبيل متعصب ٱلتقي صدفه شاب مدينه...   \n",
       "1  تناول فيلم حقب تاريخ شعب مصري يكابد شتي نوع عذ...   \n",
       "2  تناول عمل حياه جزيره عربي اظهر اسلام حياه عبار...   \n",
       "\n",
       "                                               تمثيل  \\\n",
       "0  كوكا,بدر لاما,سراج منير,عباس فارس,بشارة واكيم,...   \n",
       "1  لولا صدقي,أحمد البيه,منسى فهمي,رفيعة الشال,أحم...   \n",
       "2  كوكا,عماد حمدي,عباس فارس,سراج منير,زكي إبراهيم...   \n",
       "\n",
       "                                    تأليف  \\\n",
       "0    بيرم التونسي,محمود تيمور,نيازي مصطفى   \n",
       "1  جليل البنداري,محمد صبيح,فؤاد الجزايرلي   \n",
       "2                إبراهيم عز الدين,طه حسين   \n",
       "\n",
       "                                     إنتاج  \\\n",
       "0                                      NaN   \n",
       "1                              أفلام النسر   \n",
       "2  أفلام المصري (إبراهيم عز الدين عزقلاني)   \n",
       "\n",
       "                                               تصوير  \\\n",
       "0                           محمد عبدالعظيم,مصطفى حسن   \n",
       "1                                              أوهان   \n",
       "2  والتر هاجوب,والترها جوب,حسن البحيري,محمد عز العرب   \n",
       "\n",
       "                        مونتاج                                 ديكور ملابس  \\\n",
       "0                   جلال مصطفى                        ولي الدين سامح   NaN   \n",
       "1                   جلال مصطفى                        روبرت شارفنبرج   NaN   \n",
       "2  حسن حلمي (حسنوف),كمال الشيخ  ستوديو مصر,نجيب خوري,أنطوان بوليزويس   NaN   \n",
       "\n",
       "                                        موسيقى  \\\n",
       "0  عبدالحميد عبدالرحمن,محمد الكحلاوي,آمال حسين   \n",
       "1                                          NaN   \n",
       "2                                          NaN   \n",
       "\n",
       "                                         إخراج       توزيع بطولة اولي  \n",
       "0                                  نيازي مصطفى         NaN       كوكا  \n",
       "1                               فؤاد الجزايرلي  ستوديو مصر  لولا صدقي  \n",
       "2  إبراهيم عز الدين,حمادة عبدالوهاب,شريف حمودة         NaN       كوكا  "
      ]
     },
     "execution_count": 28,
     "metadata": {},
     "output_type": "execute_result"
    }
   ],
   "source": [
    "df_movies_final.head(3)"
   ]
  },
  {
   "cell_type": "code",
   "execution_count": 29,
   "id": "25b1fb46",
   "metadata": {},
   "outputs": [],
   "source": [
    "df_movies_final.to_csv('df_imputed&cleaned.csv')"
   ]
  },
  {
   "cell_type": "code",
   "execution_count": null,
   "id": "3884521d",
   "metadata": {},
   "outputs": [],
   "source": []
  }
 ],
 "metadata": {
  "kernelspec": {
   "display_name": "Python 3",
   "language": "python",
   "name": "python3"
  },
  "language_info": {
   "codemirror_mode": {
    "name": "ipython",
    "version": 3
   },
   "file_extension": ".py",
   "mimetype": "text/x-python",
   "name": "python",
   "nbconvert_exporter": "python",
   "pygments_lexer": "ipython3",
   "version": "3.9.4"
  }
 },
 "nbformat": 4,
 "nbformat_minor": 5
}
